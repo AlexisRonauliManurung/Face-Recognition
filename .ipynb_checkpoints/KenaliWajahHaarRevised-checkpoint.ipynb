{
 "cells": [
  {
   "cell_type": "code",
   "execution_count": 5,
   "metadata": {
    "id": "K6G_vEnjREx6"
   },
   "outputs": [
    {
     "ename": "ModuleNotFoundError",
     "evalue": "No module named 'facenet'",
     "output_type": "error",
     "traceback": [
      "\u001b[1;31m---------------------------------------------------------------------------\u001b[0m",
      "\u001b[1;31mModuleNotFoundError\u001b[0m                       Traceback (most recent call last)",
      "Cell \u001b[1;32mIn[5], line 7\u001b[0m\n\u001b[0;32m      5\u001b[0m \u001b[38;5;28;01mfrom\u001b[39;00m \u001b[38;5;21;01mnumpy\u001b[39;00m \u001b[38;5;28;01mimport\u001b[39;00m asarray\n\u001b[0;32m      6\u001b[0m \u001b[38;5;28;01mfrom\u001b[39;00m \u001b[38;5;21;01mnumpy\u001b[39;00m \u001b[38;5;28;01mimport\u001b[39;00m expand_dims\n\u001b[1;32m----> 7\u001b[0m \u001b[38;5;28;01mfrom\u001b[39;00m \u001b[38;5;21;01mfacenet\u001b[39;00m \u001b[38;5;28;01mimport\u001b[39;00m FaceNet\n\u001b[0;32m      9\u001b[0m \u001b[38;5;28;01mimport\u001b[39;00m \u001b[38;5;21;01mpickle\u001b[39;00m\n\u001b[0;32m     10\u001b[0m \u001b[38;5;28;01mimport\u001b[39;00m \u001b[38;5;21;01mcv2\u001b[39;00m\n",
      "\u001b[1;31mModuleNotFoundError\u001b[0m: No module named 'facenet'"
     ]
    }
   ],
   "source": [
    "from facenet import FaceNet  # Sesuaikan dengan modul tempat FaceNet didefinisikan\n",
    "\n",
    "import os\n",
    "from os import listdir\n",
    "from PIL import Image\n",
    "from numpy import asarray, expand_dims\n",
    "from matplotlib import pyplot\n",
    "from keras.models import load_model\n",
    "import numpy as np\n",
    "import cv2"
   ]
  },
  {
   "cell_type": "code",
   "execution_count": 4,
   "metadata": {
    "id": "HAQ-7CtXREx7",
    "outputId": "b98423af-282c-4a9a-9128-84a35c9f5873"
   },
   "outputs": [
    {
     "ename": "NameError",
     "evalue": "name 'FaceNet' is not defined",
     "output_type": "error",
     "traceback": [
      "\u001b[1;31m---------------------------------------------------------------------------\u001b[0m",
      "\u001b[1;31mNameError\u001b[0m                                 Traceback (most recent call last)",
      "Cell \u001b[1;32mIn[4], line 4\u001b[0m\n\u001b[0;32m      2\u001b[0m HaarCascade \u001b[38;5;241m=\u001b[39m cv2\u001b[38;5;241m.\u001b[39mCascadeClassifier(cv2\u001b[38;5;241m.\u001b[39msamples\u001b[38;5;241m.\u001b[39mfindFile(cv2\u001b[38;5;241m.\u001b[39mdata\u001b[38;5;241m.\u001b[39mhaarcascades \u001b[38;5;241m+\u001b[39m \u001b[38;5;124m'\u001b[39m\u001b[38;5;124mhaarcascade_frontalface_default.xml\u001b[39m\u001b[38;5;124m'\u001b[39m))\n\u001b[0;32m      3\u001b[0m \u001b[38;5;66;03m#MyFaceNet = load_model('facenet_keras.h5')\u001b[39;00m\n\u001b[1;32m----> 4\u001b[0m MyFaceNet \u001b[38;5;241m=\u001b[39m \u001b[43mFaceNet\u001b[49m()\n",
      "\u001b[1;31mNameError\u001b[0m: name 'FaceNet' is not defined"
     ]
    }
   ],
   "source": [
    "#HaarCascade = cv2.CascadeClassifier('haarcascade_frontalface_default.xml')\n",
    "HaarCascade = cv2.CascadeClassifier(cv2.samples.findFile(cv2.data.haarcascades + 'haarcascade_frontalface_default.xml'))\n",
    "#MyFaceNet = load_model('facenet_keras.h5')\n",
    "MyFaceNet = FaceNet()"
   ]
  },
  {
   "cell_type": "code",
   "execution_count": null,
   "metadata": {
    "id": "1iKgcRxkREx7"
   },
   "outputs": [],
   "source": [
    "myfile = open(\"data.pkl\", \"rb\")\n",
    "database = pickle.load(myfile)\n",
    "myfile.close()"
   ]
  },
  {
   "cell_type": "code",
   "execution_count": null,
   "metadata": {
    "id": "07ye3jXfREx8"
   },
   "outputs": [],
   "source": [
    "cap = cv2.VideoCapture(0)\n",
    "\n",
    "while(1):\n",
    "    _, gbr1 = cap.read()\n",
    "\n",
    "    wajah = HaarCascade.detectMultiScale(gbr1,1.1,4)\n",
    "\n",
    "    if len(wajah)>0:\n",
    "        x1, y1, width, height = wajah[0]\n",
    "    else:\n",
    "        x1, y1, width, height = 1, 1, 10, 10\n",
    "\n",
    "    x1, y1 = abs(x1), abs(y1)\n",
    "    x2, y2 = x1 + width, y1 + height\n",
    "\n",
    "\n",
    "    gbr = cv2.cvtColor(gbr1, cv2.COLOR_BGR2RGB)\n",
    "    gbr = Image.fromarray(gbr)                  # konversi dari OpenCV ke PIL\n",
    "    gbr_array = asarray(gbr)\n",
    "\n",
    "    face = gbr_array[y1:y2, x1:x2]\n",
    "\n",
    "    face = Image.fromarray(face)\n",
    "    face = face.resize((160,160))\n",
    "    face = asarray(face)\n",
    "\n",
    "    #face = face.astype('float32')\n",
    "    #mean, std = face.mean(), face.std()\n",
    "    #face = (face - mean) / std\n",
    "\n",
    "    face = expand_dims(face, axis=0)\n",
    "    #signature = MyFaceNet.predict(face)\n",
    "    signature = MyFaceNet.embeddings(face)\n",
    "\n",
    "    min_dist=100\n",
    "    identity=' '\n",
    "    for key, value in database.items() :\n",
    "        dist = np.linalg.norm(value-signature)\n",
    "        if dist < min_dist:\n",
    "            min_dist = dist\n",
    "            identity = key\n",
    "\n",
    "    cv2.putText(gbr1,identity, (100,100),cv2.FONT_HERSHEY_SIMPLEX, 1, (255, 255, 0), 2, cv2.LINE_AA)\n",
    "    cv2.rectangle(gbr1,(x1,y1),(x2,y2), (0,255,0), 2)\n",
    "\n",
    "    cv2.imshow('res',gbr1)\n",
    "\n",
    "    k = cv2.waitKey(5) & 0xFF\n",
    "    if k == 27:\n",
    "        break\n",
    "\n",
    "cv2.destroyAllWindows()\n",
    "cap.release()"
   ]
  },
  {
   "cell_type": "code",
   "execution_count": null,
   "metadata": {
    "id": "IldG90-bREx8"
   },
   "outputs": [],
   "source": []
  },
  {
   "cell_type": "code",
   "execution_count": null,
   "metadata": {},
   "outputs": [],
   "source": []
  }
 ],
 "metadata": {
  "colab": {
   "provenance": []
  },
  "kernelspec": {
   "display_name": "Python 3 (ipykernel)",
   "language": "python",
   "name": "python3"
  },
  "language_info": {
   "codemirror_mode": {
    "name": "ipython",
    "version": 3
   },
   "file_extension": ".py",
   "mimetype": "text/x-python",
   "name": "python",
   "nbconvert_exporter": "python",
   "pygments_lexer": "ipython3",
   "version": "3.12.4"
  }
 },
 "nbformat": 4,
 "nbformat_minor": 4
}
